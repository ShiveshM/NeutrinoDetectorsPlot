{
 "cells": [
  {
   "cell_type": "code",
   "execution_count": 16,
   "metadata": {
    "scrolled": false
   },
   "outputs": [],
   "source": [
    "%matplotlib inline\n",
    "\n",
    "import numpy as np\n",
    "import matplotlib.pyplot as plt\n",
    "from ipywidgets import interact, interactive, fixed, interact_manual\n",
    "import ipywidgets as widgets\n",
    "\n",
    "def PlotStuff(pl1=True,pl2=True,pl3=True,pl4=True):\n",
    "    #\n",
    "    # water cherenkov detectors\n",
    "    #\n",
    "\n",
    "    pl1 = bool(pl1)\n",
    "    pl2 = bool(pl2)\n",
    "    pl3 = bool(pl3)\n",
    "    pl4 = bool(pl4)\n",
    "    # amanda\n",
    "    amandaDetectors = [\"AMANDA-A\", \"AMANDA-B10\", \"AMANDA-II\"]\n",
    "    amandaYears = [1996, 1997, 2000]\n",
    "    amandaSpatRes = [2.62, 4.93, 6.03]\n",
    "    amandaMasses = [1.14e08, 5.89e08, 3.78e10]\n",
    "\n",
    "    # baikal\n",
    "    baikalDetectors=[\"Baikal NT-200\", \"Baikal NT-200+\", \"Baikal GVD\"]\n",
    "    baikalYears = [1993, 2005, 2020]\n",
    "    baikalSpatRes = [2.12, 2.12, 6.98]\n",
    "    baikalMasses = [2e08, 2e08, 1e21]\n",
    "\n",
    "    # icecube\n",
    "    icecubeDetectors = [\"IC-DeepCore\", \"IC-Pingu\", \"IceCube\"]\n",
    "    icecubeYears = [2010, 2011, 2020]\n",
    "    icecubeSpatRes = [13.99, 3.92, 1.91]\n",
    "    icecubeMasses = [1e12, 27215542200, 5443108440]\n",
    "\n",
    "    # super k\n",
    "    superkDetectors = [\"SK-I\", \"SK-II\", \"SK-III\", \"SK-IV\"]\n",
    "    superkYears = [1996, 2002, 2006, 2008]\n",
    "    superkSpatRes = [ 0.16, 0.23, 0.16, 0.16]\n",
    "    superkMasses = [45359237,45359237,45359237,45359237]\n",
    "\n",
    "    # others\n",
    "    wCherenkovDetectors = [\"ANNIE-I\", \"ANTARES\", \"Hyper-K\", \"Kamiokande\", \"SNO\"]\n",
    "    wCherenkovYears = [2016, 2008, 2025, 1983, 1999]\n",
    "    wCherenkovSpatRes = [0.182, 4.65, 0.22, 0.21, 0.15]\n",
    "    wCherenkovMasses=[23586, 3.5e10, 335658354, 2721544, 30000]\n",
    "\n",
    "    # MO cherenkov detectors\n",
    "    moCherenkovDetectors = [\"LSND\"]\n",
    "    moCherenkovYears = [1993]\n",
    "    moCherenkovSpatRes = [0.14]\n",
    "    moCherenkovMasses = [151500]\n",
    "\n",
    "    # Tracking detectors\n",
    "    trackingDetectors = [\"KARMEN\", \"MINERvA\", \"MINOS-FD\", \"NOvA-FD\", \"OPERA\", \"SciBar\", \"SciFi\"]\n",
    "    trackingYears = [1990, 2010, 2005, 2014, 0, 2003, 0]\n",
    "    trackingSpatRes = [0.06, 0.003, 0.0256, 0.0450, 0, 0.0201, 0]\n",
    "    trackingMasses = [62660, 5.5e03, 4.9e06, 1.27e07, 0, 1.36e04, 0]\n",
    "\n",
    "    #TPCs\n",
    "    tpcDetectors = [\"ICARUS\", \"ARGONEUT\", \"MICROBOONE\", \"LARIAT\", \"SBND\", \"DUNE\"]\n",
    "    tpcYears = [2010, 2009, 2015, 0, 2020, 2025]\n",
    "    tpcSpatRes = [0.00064, 0.004, 0.003, 0, 0, 0]\n",
    "    tpcMasses = [0, 690, 80739, 0, 0, 0]\n",
    "\n",
    "    fig = plt.figure(figsize=(15,15))\n",
    "    ax = fig.add_subplot(111)\n",
    "    if pl1 is True: \n",
    "        ax.plot(amandaYears, amandaSpatRes, color='mediumseagreen', marker='o')\n",
    "        ax.plot(baikalYears, baikalSpatRes, color='mediumseagreen', marker='o')\n",
    "        ax.plot(icecubeYears, icecubeSpatRes, color='mediumseagreen', marker='o')\n",
    "        ax.plot(superkYears, superkSpatRes, color='mediumseagreen', marker='o')\n",
    "        ax.plot(wCherenkovYears, wCherenkovSpatRes, color='mediumseagreen', label='water cherenkov', linestyle=\"\", marker='o')\n",
    "        ax.annotate(\"AMANDA\", (amandaYears[2]-10, amandaSpatRes[2]), color='mediumseagreen')\n",
    "        ax.annotate(\"BAIKAL\", (baikalYears[0], baikalSpatRes[0]-0.5), color='mediumseagreen')\n",
    "        ax.annotate(\"ICECUBE\", (icecubeYears[0]+1, icecubeSpatRes[0]), color='mediumseagreen')\n",
    "        ax.annotate(\"SK\", (superkYears[0]-1.0, superkSpatRes[0]+0.02), color='mediumseagreen')\n",
    "        for i, txt in enumerate(wCherenkovDetectors):\n",
    "            ax.annotate(txt, (wCherenkovYears[i]+1.0, wCherenkovSpatRes[i]), color='mediumseagreen')\n",
    "        \n",
    "    if pl2 is True: \n",
    "        ax.plot(moCherenkovYears, moCherenkovSpatRes, color='lightsalmon', label='mineral oil cherenkov',linestyle=\"\", marker='o')\n",
    "        for i, txt, in enumerate(moCherenkovDetectors):\n",
    "            ax. annotate(txt, (moCherenkovYears[i]+0.5, moCherenkovSpatRes[i]-0.02), color='lightsalmon')\n",
    "    \n",
    "    if pl3 is True: \n",
    "        ax.plot(trackingYears, trackingSpatRes, color='plum', label='Tracking',linestyle=\"\", marker='o')\n",
    "        for i, txt, in enumerate(trackingDetectors):\n",
    "            ax. annotate(txt, (trackingYears[i]+1.0, trackingSpatRes[i]), color='plum')\n",
    "    \n",
    "    if pl4 is True: \n",
    "        ax.plot(tpcYears, tpcSpatRes, color='dodgerblue', label='LqAr TPCs',linestyle=\"\", marker='o')\n",
    "        for i, txt, in enumerate(tpcDetectors):\n",
    "            ax. annotate(txt, (tpcYears[i]+1.0, tpcSpatRes[i]), color='dodgerblue')\n",
    "\n",
    "    leg = ax.legend(loc='upper left')\n",
    "    leg.get_frame().set_alpha(0.4)\n",
    "    ax.set_yscale('log')\n",
    "    \n",
    "    plt.ylim(0.0001, 100)\n",
    "    plt.ylabel('Spatial Resolution [m]')\n",
    "    plt.xlabel('Completion Year')\n",
    "    plt.xlim(1950, 2035)\n",
    "\n",
    "    plt.show()"
   ]
  },
  {
   "cell_type": "code",
   "execution_count": 17,
   "metadata": {},
   "outputs": [
    {
     "data": {
      "application/vnd.jupyter.widget-view+json": {
       "model_id": "413ff203f20f43a6b2413f00a4267cb5"
      }
     },
     "metadata": {},
     "output_type": "display_data"
    },
    {
     "data": {
      "text/plain": [
       "<function __main__.PlotStuff>"
      ]
     },
     "execution_count": 17,
     "metadata": {},
     "output_type": "execute_result"
    }
   ],
   "source": [
    "w1 = (0,1,1)\n",
    "interact(PlotStuff,pl1=w1,pl2=w1,pl3=w1,pl4=w1)"
   ]
  },
  {
   "cell_type": "code",
   "execution_count": null,
   "metadata": {
    "collapsed": true
   },
   "outputs": [],
   "source": []
  }
 ],
 "metadata": {
  "kernelspec": {
   "display_name": "Python 3",
   "language": "python",
   "name": "python3"
  },
  "language_info": {
   "codemirror_mode": {
    "name": "ipython",
    "version": 3
   },
   "file_extension": ".py",
   "mimetype": "text/x-python",
   "name": "python",
   "nbconvert_exporter": "python",
   "pygments_lexer": "ipython3",
   "version": "3.6.1"
  }
 },
 "nbformat": 4,
 "nbformat_minor": 2
}
