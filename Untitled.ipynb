{
 "cells": [
  {
   "cell_type": "code",
   "execution_count": 5,
   "metadata": {},
   "outputs": [
    {
     "ename": "SyntaxError",
     "evalue": "Missing parentheses in call to 'print' (<ipython-input-5-96ef303a8254>, line 8)",
     "output_type": "error",
     "traceback": [
      "\u001b[0;36m  File \u001b[0;32m\"<ipython-input-5-96ef303a8254>\"\u001b[0;36m, line \u001b[0;32m8\u001b[0m\n\u001b[0;31m    print matplotlib.__version__\u001b[0m\n\u001b[0m                   ^\u001b[0m\n\u001b[0;31mSyntaxError\u001b[0m\u001b[0;31m:\u001b[0m Missing parentheses in call to 'print'\n"
     ]
    }
   ],
   "source": [
    "\"\"\"\n",
    "Enable picking on the legend to toggle the original line on and off\n",
    "\"\"\"\n",
    "import numpy as np\n",
    "import matplotlib.pyplot as plt\n",
    "\n",
    "t = np.arange(0.0, 0.2, 0.1)\n",
    "y1 = 2*np.sin(2*np.pi*t)\n",
    "y2 = 4*np.sin(2*np.pi*2*t)\n",
    "\n",
    "fig, ax = plt.subplots()\n",
    "ax.set_title('Click on legend line to toggle line on/off')\n",
    "line1, = ax.plot(t, y1, lw=2, color='red', label='1 HZ')\n",
    "line2, = ax.plot(t, y2, lw=2, color='blue', label='2 HZ')\n",
    "leg = ax.legend(loc='upper left', fancybox=True, shadow=True)\n",
    "leg.get_frame().set_alpha(0.4)\n",
    "\n",
    "\n",
    "# we will set up a dict mapping legend line to orig line, and enable\n",
    "# picking on the legend line\n",
    "lines = [line1, line2]\n",
    "lined = dict()\n",
    "for legline, origline in zip(leg.get_lines(), lines):\n",
    "    legline.set_picker(5)  # 5 pts tolerance\n",
    "    lined[legline] = origline\n",
    "\n",
    "\n",
    "def onpick(event):\n",
    "    # on the pick event, find the orig line corresponding to the\n",
    "    # legend proxy line, and toggle the visibility\n",
    "    legline = event.artist\n",
    "    origline = lined[legline]\n",
    "    vis = not origline.get_visible()\n",
    "    origline.set_visible(vis)\n",
    "    # Change the alpha on the line in the legend so we can see what lines\n",
    "    # have been toggled\n",
    "    if vis:\n",
    "        legline.set_alpha(1.0)\n",
    "    else:\n",
    "        legline.set_alpha(0.2)\n",
    "    fig.canvas.draw()\n",
    "\n",
    "fig.canvas.mpl_connect('pick_event', onpick)\n",
    "\n",
    "plt.show()"
   ]
  },
  {
   "cell_type": "code",
   "execution_count": null,
   "metadata": {
    "collapsed": true
   },
   "outputs": [],
   "source": []
  },
  {
   "cell_type": "code",
   "execution_count": null,
   "metadata": {
    "collapsed": true
   },
   "outputs": [],
   "source": []
  }
 ],
 "metadata": {
  "kernelspec": {
   "display_name": "Python 3",
   "language": "python",
   "name": "python3"
  },
  "language_info": {
   "codemirror_mode": {
    "name": "ipython",
    "version": 3
   },
   "file_extension": ".py",
   "mimetype": "text/x-python",
   "name": "python",
   "nbconvert_exporter": "python",
   "pygments_lexer": "ipython3",
   "version": "3.6.1"
  }
 },
 "nbformat": 4,
 "nbformat_minor": 2
}
